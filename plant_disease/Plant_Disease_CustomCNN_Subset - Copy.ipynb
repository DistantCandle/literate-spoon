{
 "cells": [
  {
   "cell_type": "markdown",
   "id": "44a96ba0",
   "metadata": {},
   "source": [
    "# 🌿 Plant Disease Classification — Custom CNN (Subset)\n",
    "\n",
    "This notebook is designed to run in a **local web Jupyter Notebook** (Anaconda/JupyterLab/Jupyter Notebook) on Windows 10.\n",
    "\n",
    "**Mode:** Subset — we will create a smaller dataset by sampling up to `max_images_per_class` images per class to keep training fast on CPU.\n",
    "\n",
    "**Model:** Custom lightweight CNN (built from scratch) — simpler and faster to train on CPU.\n",
    "\n",
    "---\n",
    "\n",
    "### Notes before running\n",
    "1. Install required packages if missing: `pip install tensorflow opendatasets matplotlib seaborn scikit-learn`\n",
    "2. For automatic Kaggle download via `opendatasets`, place your `kaggle.json` at `~/.kaggle/kaggle.json`.\n",
    "   - If you don't want to use the Kaggle API, download the dataset manually from Kaggle and extract to `plantdisease/PlantVillage`.\n",
    "3. Run cells from top to bottom. Adjust `max_images_per_class` and `IMG_SIZE` for speed/accuracy tradeoffs.\n"
   ]
  },
  {
   "cell_type": "code",
   "execution_count": 1,
   "id": "8053998c",
   "metadata": {},
   "outputs": [
    {
     "name": "stdout",
     "output_type": "stream",
     "text": [
      "Subset mode: True\n",
      "Max images per class: 120\n"
     ]
    }
   ],
   "source": [
    "# === Configuration ===\n",
    "USE_SUBSET = True\n",
    "max_images_per_class = 120  # reduce to 50 for even faster runs\n",
    "random_seed = 42\n",
    "\n",
    "DATA_ROOT = 'plantdisease'\n",
    "ORIG_DATA_DIR = DATA_ROOT + '/PlantVillage'\n",
    "SUBSET_DIR = DATA_ROOT + '/subset'\n",
    "FULL_DIR = DATA_ROOT + '/full'\n",
    "\n",
    "print('Subset mode:', USE_SUBSET)\n",
    "print('Max images per class:', max_images_per_class)"
   ]
  },
  {
   "cell_type": "code",
   "execution_count": 2,
   "id": "151e3066-f83a-476b-b7a5-54b6eda6becb",
   "metadata": {},
   "outputs": [],
   "source": [
    "# Uncomment the pip install line if you need to install packages\n",
    "!pip install tensorflow opendatasets matplotlib seaborn scikit-learn --quiet"
   ]
  },
  {
   "cell_type": "code",
   "execution_count": 3,
   "id": "177282df",
   "metadata": {},
   "outputs": [
    {
     "name": "stdout",
     "output_type": "stream",
     "text": [
      "TensorFlow version: 2.20.0\n",
      "Data root folder: plantdisease\n"
     ]
    }
   ],
   "source": [
    "# === Install / Import Dependencies ===\n",
    "\n",
    "import os\n",
    "import shutil\n",
    "import random\n",
    "from pathlib import Path\n",
    "import numpy as np\n",
    "import pandas as pd\n",
    "import matplotlib.pyplot as plt\n",
    "import seaborn as sns\n",
    "import tensorflow as tf\n",
    "from tensorflow.keras.preprocessing.image import ImageDataGenerator\n",
    "from tensorflow.keras.models import Sequential\n",
    "from tensorflow.keras.layers import Conv2D, MaxPooling2D, Flatten, Dense, Dropout, BatchNormalization\n",
    "from tensorflow.keras.callbacks import EarlyStopping, ModelCheckpoint\n",
    "from sklearn.metrics import classification_report, confusion_matrix\n",
    "import opendatasets as od\n",
    "\n",
    "os.environ['TF_CPP_MIN_LOG_LEVEL'] = '2'\n",
    "random.seed(random_seed)\n",
    "np.random.seed(random_seed)\n",
    "print('TensorFlow version:', tf.__version__)\n",
    "Path(DATA_ROOT).mkdir(parents=True, exist_ok=True)\n",
    "print('Data root folder:', DATA_ROOT)"
   ]
  },
  {
   "cell_type": "code",
   "execution_count": 4,
   "id": "98849c69",
   "metadata": {},
   "outputs": [
    {
     "name": "stdout",
     "output_type": "stream",
     "text": [
      "Attempting to download PlantVillage from Kaggle via opendatasets...\n",
      "Dataset URL: https://www.kaggle.com/datasets/emmarex/plantdisease\n",
      "Downloading plantdisease.zip to .\\plantdisease\n"
     ]
    },
    {
     "name": "stderr",
     "output_type": "stream",
     "text": [
      "100%|████████████████████████████████████████████████████████████████████████████████████████████████████████████████████████████████████████████████████████████████████████████████████████████████████| 658M/658M [00:07<00:00, 87.7MB/s]\n"
     ]
    },
    {
     "name": "stdout",
     "output_type": "stream",
     "text": [
      "\n",
      "Downloaded. Check folder: plantdisease/PlantVillage\n",
      "Sample classes: ['Pepper__bell___Bacterial_spot', 'Pepper__bell___healthy', 'PlantVillage', 'Potato___Early_blight', 'Potato___healthy', 'Potato___Late_blight', 'Tomato_Bacterial_spot', 'Tomato_Early_blight']\n"
     ]
    }
   ],
   "source": [
    "# === Download dataset from Kaggle (optional) ===\n",
    "# If you already downloaded the dataset, this will be skipped.\n",
    "if not Path(ORIG_DATA_DIR).exists():\n",
    "    print('Attempting to download PlantVillage from Kaggle via opendatasets...')\n",
    "    try:\n",
    "        od.download('https://www.kaggle.com/datasets/emmarex/plantdisease')\n",
    "        print('Downloaded. Check folder:', ORIG_DATA_DIR)\n",
    "    except Exception as e:\n",
    "        print('Download failed or Kaggle not configured. Please manually download and extract to:', ORIG_DATA_DIR)\n",
    "        print('Error:', e)\n",
    "else:\n",
    "    print('Found dataset at', ORIG_DATA_DIR)\n",
    "\n",
    "# Show sample folders\n",
    "if Path(ORIG_DATA_DIR).exists():\n",
    "    sample = list(Path(ORIG_DATA_DIR).iterdir())[:8]\n",
    "    print('Sample classes:', [p.name for p in sample])\n",
    "else:\n",
    "    print('Dataset not available yet. After placing the dataset, re-run this cell.')"
   ]
  },
  {
   "cell_type": "code",
   "execution_count": 5,
   "id": "9f130f12",
   "metadata": {},
   "outputs": [
    {
     "name": "stdout",
     "output_type": "stream",
     "text": [
      "Found 16 classes in original dataset.\n",
      "Subset created at plantdisease\\subset\n",
      "SUBSET_DIR = plantdisease/subset\n"
     ]
    }
   ],
   "source": [
    "# === Create subset (balanced) ===\n",
    "orig = Path(ORIG_DATA_DIR)\n",
    "subset = Path(SUBSET_DIR)\n",
    "\n",
    "if not orig.exists():\n",
    "    print('Original dataset not found at', orig)\n",
    "else:\n",
    "    if USE_SUBSET:\n",
    "        if subset.exists():\n",
    "            print('Subset exists — removing and recreating.')\n",
    "            shutil.rmtree(subset)\n",
    "        subset.mkdir(parents=True, exist_ok=True)\n",
    "        classes = [p for p in orig.iterdir() if p.is_dir()]\n",
    "        print('Found', len(classes), 'classes in original dataset.')\n",
    "        for cls in classes:\n",
    "            files = list(cls.glob('*'))\n",
    "            if len(files) == 0:\n",
    "                continue\n",
    "            random.shuffle(files)\n",
    "            chosen = files[:max_images_per_class]\n",
    "            dst = subset / cls.name\n",
    "            dst.mkdir(parents=True, exist_ok=True)\n",
    "            for f in chosen:\n",
    "                try:\n",
    "                    shutil.copy(f, dst / f.name)\n",
    "                except Exception:\n",
    "                    pass\n",
    "        print('Subset created at', subset)\n",
    "    else:\n",
    "        print('Using full dataset at', orig)\n",
    "        subset = orig\n",
    "        SUBSET_DIR = str(subset)\n",
    "\n",
    "print('SUBSET_DIR =', SUBSET_DIR)"
   ]
  },
  {
   "cell_type": "code",
   "execution_count": 6,
   "id": "f86faccf",
   "metadata": {},
   "outputs": [
    {
     "name": "stdout",
     "output_type": "stream",
     "text": [
      "Classes in subset: 16\n",
      "1. Pepper__bell___Bacterial_spot: 120 images\n",
      "2. Pepper__bell___healthy: 120 images\n",
      "3. Potato___Early_blight: 120 images\n",
      "4. Potato___healthy: 120 images\n",
      "5. Potato___Late_blight: 120 images\n",
      "6. Tomato_Bacterial_spot: 120 images\n",
      "7. Tomato_Early_blight: 120 images\n",
      "8. Tomato_healthy: 120 images\n",
      "9. Tomato_Late_blight: 120 images\n",
      "10. Tomato_Leaf_Mold: 120 images\n"
     ]
    }
   ],
   "source": [
    "# === Inspect subset counts ===\n",
    "from collections import Counter\n",
    "\n",
    "def counts(path):\n",
    "    p = Path(path)\n",
    "    if not p.exists():\n",
    "        return {}\n",
    "    return {c.name: len(list(c.glob('*'))) for c in p.iterdir() if c.is_dir()}\n",
    "\n",
    "cnt = counts(SUBSET_DIR)\n",
    "print('Classes in subset:', len(cnt))\n",
    "# show top 10 classes by count\n",
    "for i, (k,v) in enumerate(sorted(cnt.items(), key=lambda x:-x[1])[:10]):\n",
    "    print(f'{i+1}. {k}: {v} images')\n",
    "\n",
    "if len(cnt) == 0:\n",
    "    print('\\nNo images found in subset. Ensure ORIG_DATA_DIR is correct and dataset is downloaded.')"
   ]
  },
  {
   "cell_type": "code",
   "execution_count": 7,
   "id": "6841dff5",
   "metadata": {},
   "outputs": [
    {
     "name": "stdout",
     "output_type": "stream",
     "text": [
      "Found 1440 images belonging to 16 classes.\n",
      "Found 360 images belonging to 16 classes.\n",
      "Found classes: 16\n"
     ]
    }
   ],
   "source": [
    "# === Prepare Image Data Generators ===\n",
    "BATCH_SIZE = 16\n",
    "IMG_SIZE = (128,128)  # smaller size for faster CPU training\n",
    "\n",
    "train_datagen = ImageDataGenerator(\n",
    "    rescale=1./255,\n",
    "    validation_split=0.2,\n",
    "    rotation_range=20,\n",
    "    zoom_range=0.15,\n",
    "    width_shift_range=0.1,\n",
    "    height_shift_range=0.1,\n",
    "    horizontal_flip=True,\n",
    "    fill_mode='nearest'\n",
    ")\n",
    "\n",
    "train_generator = train_datagen.flow_from_directory(\n",
    "    SUBSET_DIR,\n",
    "    target_size=IMG_SIZE,\n",
    "    batch_size=BATCH_SIZE,\n",
    "    subset='training'\n",
    ")\n",
    "\n",
    "val_generator = train_datagen.flow_from_directory(\n",
    "    SUBSET_DIR,\n",
    "    target_size=IMG_SIZE,\n",
    "    batch_size=BATCH_SIZE,\n",
    "    subset='validation',\n",
    "    shuffle=False\n",
    ")\n",
    "\n",
    "class_labels = list(train_generator.class_indices.keys())\n",
    "print('Found classes:', len(class_labels))"
   ]
  },
  {
   "cell_type": "code",
   "execution_count": 8,
   "id": "37710c60",
   "metadata": {},
   "outputs": [
    {
     "name": "stderr",
     "output_type": "stream",
     "text": [
      "C:\\Users\\Eastwood\\anaconda3\\envs\\plantdl\\lib\\site-packages\\keras\\src\\layers\\convolutional\\base_conv.py:113: UserWarning: Do not pass an `input_shape`/`input_dim` argument to a layer. When using Sequential models, prefer using an `Input(shape)` object as the first layer in the model instead.\n",
      "  super().__init__(activity_regularizer=activity_regularizer, **kwargs)\n"
     ]
    },
    {
     "data": {
      "text/html": [
       "<pre style=\"white-space:pre;overflow-x:auto;line-height:normal;font-family:Menlo,'DejaVu Sans Mono',consolas,'Courier New',monospace\"><span style=\"font-weight: bold\">Model: \"sequential\"</span>\n",
       "</pre>\n"
      ],
      "text/plain": [
       "\u001b[1mModel: \"sequential\"\u001b[0m\n"
      ]
     },
     "metadata": {},
     "output_type": "display_data"
    },
    {
     "data": {
      "text/html": [
       "<pre style=\"white-space:pre;overflow-x:auto;line-height:normal;font-family:Menlo,'DejaVu Sans Mono',consolas,'Courier New',monospace\">┏━━━━━━━━━━━━━━━━━━━━━━━━━━━━━━━━━━━━━━┳━━━━━━━━━━━━━━━━━━━━━━━━━━━━━┳━━━━━━━━━━━━━━━━━┓\n",
       "┃<span style=\"font-weight: bold\"> Layer (type)                         </span>┃<span style=\"font-weight: bold\"> Output Shape                </span>┃<span style=\"font-weight: bold\">         Param # </span>┃\n",
       "┡━━━━━━━━━━━━━━━━━━━━━━━━━━━━━━━━━━━━━━╇━━━━━━━━━━━━━━━━━━━━━━━━━━━━━╇━━━━━━━━━━━━━━━━━┩\n",
       "│ conv2d (<span style=\"color: #0087ff; text-decoration-color: #0087ff\">Conv2D</span>)                      │ (<span style=\"color: #00d7ff; text-decoration-color: #00d7ff\">None</span>, <span style=\"color: #00af00; text-decoration-color: #00af00\">126</span>, <span style=\"color: #00af00; text-decoration-color: #00af00\">126</span>, <span style=\"color: #00af00; text-decoration-color: #00af00\">32</span>)        │             <span style=\"color: #00af00; text-decoration-color: #00af00\">896</span> │\n",
       "├──────────────────────────────────────┼─────────────────────────────┼─────────────────┤\n",
       "│ batch_normalization                  │ (<span style=\"color: #00d7ff; text-decoration-color: #00d7ff\">None</span>, <span style=\"color: #00af00; text-decoration-color: #00af00\">126</span>, <span style=\"color: #00af00; text-decoration-color: #00af00\">126</span>, <span style=\"color: #00af00; text-decoration-color: #00af00\">32</span>)        │             <span style=\"color: #00af00; text-decoration-color: #00af00\">128</span> │\n",
       "│ (<span style=\"color: #0087ff; text-decoration-color: #0087ff\">BatchNormalization</span>)                 │                             │                 │\n",
       "├──────────────────────────────────────┼─────────────────────────────┼─────────────────┤\n",
       "│ max_pooling2d (<span style=\"color: #0087ff; text-decoration-color: #0087ff\">MaxPooling2D</span>)         │ (<span style=\"color: #00d7ff; text-decoration-color: #00d7ff\">None</span>, <span style=\"color: #00af00; text-decoration-color: #00af00\">63</span>, <span style=\"color: #00af00; text-decoration-color: #00af00\">63</span>, <span style=\"color: #00af00; text-decoration-color: #00af00\">32</span>)          │               <span style=\"color: #00af00; text-decoration-color: #00af00\">0</span> │\n",
       "├──────────────────────────────────────┼─────────────────────────────┼─────────────────┤\n",
       "│ conv2d_1 (<span style=\"color: #0087ff; text-decoration-color: #0087ff\">Conv2D</span>)                    │ (<span style=\"color: #00d7ff; text-decoration-color: #00d7ff\">None</span>, <span style=\"color: #00af00; text-decoration-color: #00af00\">61</span>, <span style=\"color: #00af00; text-decoration-color: #00af00\">61</span>, <span style=\"color: #00af00; text-decoration-color: #00af00\">64</span>)          │          <span style=\"color: #00af00; text-decoration-color: #00af00\">18,496</span> │\n",
       "├──────────────────────────────────────┼─────────────────────────────┼─────────────────┤\n",
       "│ batch_normalization_1                │ (<span style=\"color: #00d7ff; text-decoration-color: #00d7ff\">None</span>, <span style=\"color: #00af00; text-decoration-color: #00af00\">61</span>, <span style=\"color: #00af00; text-decoration-color: #00af00\">61</span>, <span style=\"color: #00af00; text-decoration-color: #00af00\">64</span>)          │             <span style=\"color: #00af00; text-decoration-color: #00af00\">256</span> │\n",
       "│ (<span style=\"color: #0087ff; text-decoration-color: #0087ff\">BatchNormalization</span>)                 │                             │                 │\n",
       "├──────────────────────────────────────┼─────────────────────────────┼─────────────────┤\n",
       "│ max_pooling2d_1 (<span style=\"color: #0087ff; text-decoration-color: #0087ff\">MaxPooling2D</span>)       │ (<span style=\"color: #00d7ff; text-decoration-color: #00d7ff\">None</span>, <span style=\"color: #00af00; text-decoration-color: #00af00\">30</span>, <span style=\"color: #00af00; text-decoration-color: #00af00\">30</span>, <span style=\"color: #00af00; text-decoration-color: #00af00\">64</span>)          │               <span style=\"color: #00af00; text-decoration-color: #00af00\">0</span> │\n",
       "├──────────────────────────────────────┼─────────────────────────────┼─────────────────┤\n",
       "│ conv2d_2 (<span style=\"color: #0087ff; text-decoration-color: #0087ff\">Conv2D</span>)                    │ (<span style=\"color: #00d7ff; text-decoration-color: #00d7ff\">None</span>, <span style=\"color: #00af00; text-decoration-color: #00af00\">28</span>, <span style=\"color: #00af00; text-decoration-color: #00af00\">28</span>, <span style=\"color: #00af00; text-decoration-color: #00af00\">128</span>)         │          <span style=\"color: #00af00; text-decoration-color: #00af00\">73,856</span> │\n",
       "├──────────────────────────────────────┼─────────────────────────────┼─────────────────┤\n",
       "│ batch_normalization_2                │ (<span style=\"color: #00d7ff; text-decoration-color: #00d7ff\">None</span>, <span style=\"color: #00af00; text-decoration-color: #00af00\">28</span>, <span style=\"color: #00af00; text-decoration-color: #00af00\">28</span>, <span style=\"color: #00af00; text-decoration-color: #00af00\">128</span>)         │             <span style=\"color: #00af00; text-decoration-color: #00af00\">512</span> │\n",
       "│ (<span style=\"color: #0087ff; text-decoration-color: #0087ff\">BatchNormalization</span>)                 │                             │                 │\n",
       "├──────────────────────────────────────┼─────────────────────────────┼─────────────────┤\n",
       "│ max_pooling2d_2 (<span style=\"color: #0087ff; text-decoration-color: #0087ff\">MaxPooling2D</span>)       │ (<span style=\"color: #00d7ff; text-decoration-color: #00d7ff\">None</span>, <span style=\"color: #00af00; text-decoration-color: #00af00\">14</span>, <span style=\"color: #00af00; text-decoration-color: #00af00\">14</span>, <span style=\"color: #00af00; text-decoration-color: #00af00\">128</span>)         │               <span style=\"color: #00af00; text-decoration-color: #00af00\">0</span> │\n",
       "├──────────────────────────────────────┼─────────────────────────────┼─────────────────┤\n",
       "│ flatten (<span style=\"color: #0087ff; text-decoration-color: #0087ff\">Flatten</span>)                    │ (<span style=\"color: #00d7ff; text-decoration-color: #00d7ff\">None</span>, <span style=\"color: #00af00; text-decoration-color: #00af00\">25088</span>)               │               <span style=\"color: #00af00; text-decoration-color: #00af00\">0</span> │\n",
       "├──────────────────────────────────────┼─────────────────────────────┼─────────────────┤\n",
       "│ dense (<span style=\"color: #0087ff; text-decoration-color: #0087ff\">Dense</span>)                        │ (<span style=\"color: #00d7ff; text-decoration-color: #00d7ff\">None</span>, <span style=\"color: #00af00; text-decoration-color: #00af00\">256</span>)                 │       <span style=\"color: #00af00; text-decoration-color: #00af00\">6,422,784</span> │\n",
       "├──────────────────────────────────────┼─────────────────────────────┼─────────────────┤\n",
       "│ dropout (<span style=\"color: #0087ff; text-decoration-color: #0087ff\">Dropout</span>)                    │ (<span style=\"color: #00d7ff; text-decoration-color: #00d7ff\">None</span>, <span style=\"color: #00af00; text-decoration-color: #00af00\">256</span>)                 │               <span style=\"color: #00af00; text-decoration-color: #00af00\">0</span> │\n",
       "├──────────────────────────────────────┼─────────────────────────────┼─────────────────┤\n",
       "│ dense_1 (<span style=\"color: #0087ff; text-decoration-color: #0087ff\">Dense</span>)                      │ (<span style=\"color: #00d7ff; text-decoration-color: #00d7ff\">None</span>, <span style=\"color: #00af00; text-decoration-color: #00af00\">16</span>)                  │           <span style=\"color: #00af00; text-decoration-color: #00af00\">4,112</span> │\n",
       "└──────────────────────────────────────┴─────────────────────────────┴─────────────────┘\n",
       "</pre>\n"
      ],
      "text/plain": [
       "┏━━━━━━━━━━━━━━━━━━━━━━━━━━━━━━━━━━━━━━┳━━━━━━━━━━━━━━━━━━━━━━━━━━━━━┳━━━━━━━━━━━━━━━━━┓\n",
       "┃\u001b[1m \u001b[0m\u001b[1mLayer (type)                        \u001b[0m\u001b[1m \u001b[0m┃\u001b[1m \u001b[0m\u001b[1mOutput Shape               \u001b[0m\u001b[1m \u001b[0m┃\u001b[1m \u001b[0m\u001b[1m        Param #\u001b[0m\u001b[1m \u001b[0m┃\n",
       "┡━━━━━━━━━━━━━━━━━━━━━━━━━━━━━━━━━━━━━━╇━━━━━━━━━━━━━━━━━━━━━━━━━━━━━╇━━━━━━━━━━━━━━━━━┩\n",
       "│ conv2d (\u001b[38;5;33mConv2D\u001b[0m)                      │ (\u001b[38;5;45mNone\u001b[0m, \u001b[38;5;34m126\u001b[0m, \u001b[38;5;34m126\u001b[0m, \u001b[38;5;34m32\u001b[0m)        │             \u001b[38;5;34m896\u001b[0m │\n",
       "├──────────────────────────────────────┼─────────────────────────────┼─────────────────┤\n",
       "│ batch_normalization                  │ (\u001b[38;5;45mNone\u001b[0m, \u001b[38;5;34m126\u001b[0m, \u001b[38;5;34m126\u001b[0m, \u001b[38;5;34m32\u001b[0m)        │             \u001b[38;5;34m128\u001b[0m │\n",
       "│ (\u001b[38;5;33mBatchNormalization\u001b[0m)                 │                             │                 │\n",
       "├──────────────────────────────────────┼─────────────────────────────┼─────────────────┤\n",
       "│ max_pooling2d (\u001b[38;5;33mMaxPooling2D\u001b[0m)         │ (\u001b[38;5;45mNone\u001b[0m, \u001b[38;5;34m63\u001b[0m, \u001b[38;5;34m63\u001b[0m, \u001b[38;5;34m32\u001b[0m)          │               \u001b[38;5;34m0\u001b[0m │\n",
       "├──────────────────────────────────────┼─────────────────────────────┼─────────────────┤\n",
       "│ conv2d_1 (\u001b[38;5;33mConv2D\u001b[0m)                    │ (\u001b[38;5;45mNone\u001b[0m, \u001b[38;5;34m61\u001b[0m, \u001b[38;5;34m61\u001b[0m, \u001b[38;5;34m64\u001b[0m)          │          \u001b[38;5;34m18,496\u001b[0m │\n",
       "├──────────────────────────────────────┼─────────────────────────────┼─────────────────┤\n",
       "│ batch_normalization_1                │ (\u001b[38;5;45mNone\u001b[0m, \u001b[38;5;34m61\u001b[0m, \u001b[38;5;34m61\u001b[0m, \u001b[38;5;34m64\u001b[0m)          │             \u001b[38;5;34m256\u001b[0m │\n",
       "│ (\u001b[38;5;33mBatchNormalization\u001b[0m)                 │                             │                 │\n",
       "├──────────────────────────────────────┼─────────────────────────────┼─────────────────┤\n",
       "│ max_pooling2d_1 (\u001b[38;5;33mMaxPooling2D\u001b[0m)       │ (\u001b[38;5;45mNone\u001b[0m, \u001b[38;5;34m30\u001b[0m, \u001b[38;5;34m30\u001b[0m, \u001b[38;5;34m64\u001b[0m)          │               \u001b[38;5;34m0\u001b[0m │\n",
       "├──────────────────────────────────────┼─────────────────────────────┼─────────────────┤\n",
       "│ conv2d_2 (\u001b[38;5;33mConv2D\u001b[0m)                    │ (\u001b[38;5;45mNone\u001b[0m, \u001b[38;5;34m28\u001b[0m, \u001b[38;5;34m28\u001b[0m, \u001b[38;5;34m128\u001b[0m)         │          \u001b[38;5;34m73,856\u001b[0m │\n",
       "├──────────────────────────────────────┼─────────────────────────────┼─────────────────┤\n",
       "│ batch_normalization_2                │ (\u001b[38;5;45mNone\u001b[0m, \u001b[38;5;34m28\u001b[0m, \u001b[38;5;34m28\u001b[0m, \u001b[38;5;34m128\u001b[0m)         │             \u001b[38;5;34m512\u001b[0m │\n",
       "│ (\u001b[38;5;33mBatchNormalization\u001b[0m)                 │                             │                 │\n",
       "├──────────────────────────────────────┼─────────────────────────────┼─────────────────┤\n",
       "│ max_pooling2d_2 (\u001b[38;5;33mMaxPooling2D\u001b[0m)       │ (\u001b[38;5;45mNone\u001b[0m, \u001b[38;5;34m14\u001b[0m, \u001b[38;5;34m14\u001b[0m, \u001b[38;5;34m128\u001b[0m)         │               \u001b[38;5;34m0\u001b[0m │\n",
       "├──────────────────────────────────────┼─────────────────────────────┼─────────────────┤\n",
       "│ flatten (\u001b[38;5;33mFlatten\u001b[0m)                    │ (\u001b[38;5;45mNone\u001b[0m, \u001b[38;5;34m25088\u001b[0m)               │               \u001b[38;5;34m0\u001b[0m │\n",
       "├──────────────────────────────────────┼─────────────────────────────┼─────────────────┤\n",
       "│ dense (\u001b[38;5;33mDense\u001b[0m)                        │ (\u001b[38;5;45mNone\u001b[0m, \u001b[38;5;34m256\u001b[0m)                 │       \u001b[38;5;34m6,422,784\u001b[0m │\n",
       "├──────────────────────────────────────┼─────────────────────────────┼─────────────────┤\n",
       "│ dropout (\u001b[38;5;33mDropout\u001b[0m)                    │ (\u001b[38;5;45mNone\u001b[0m, \u001b[38;5;34m256\u001b[0m)                 │               \u001b[38;5;34m0\u001b[0m │\n",
       "├──────────────────────────────────────┼─────────────────────────────┼─────────────────┤\n",
       "│ dense_1 (\u001b[38;5;33mDense\u001b[0m)                      │ (\u001b[38;5;45mNone\u001b[0m, \u001b[38;5;34m16\u001b[0m)                  │           \u001b[38;5;34m4,112\u001b[0m │\n",
       "└──────────────────────────────────────┴─────────────────────────────┴─────────────────┘\n"
      ]
     },
     "metadata": {},
     "output_type": "display_data"
    },
    {
     "data": {
      "text/html": [
       "<pre style=\"white-space:pre;overflow-x:auto;line-height:normal;font-family:Menlo,'DejaVu Sans Mono',consolas,'Courier New',monospace\"><span style=\"font-weight: bold\"> Total params: </span><span style=\"color: #00af00; text-decoration-color: #00af00\">6,521,040</span> (24.88 MB)\n",
       "</pre>\n"
      ],
      "text/plain": [
       "\u001b[1m Total params: \u001b[0m\u001b[38;5;34m6,521,040\u001b[0m (24.88 MB)\n"
      ]
     },
     "metadata": {},
     "output_type": "display_data"
    },
    {
     "data": {
      "text/html": [
       "<pre style=\"white-space:pre;overflow-x:auto;line-height:normal;font-family:Menlo,'DejaVu Sans Mono',consolas,'Courier New',monospace\"><span style=\"font-weight: bold\"> Trainable params: </span><span style=\"color: #00af00; text-decoration-color: #00af00\">6,520,592</span> (24.87 MB)\n",
       "</pre>\n"
      ],
      "text/plain": [
       "\u001b[1m Trainable params: \u001b[0m\u001b[38;5;34m6,520,592\u001b[0m (24.87 MB)\n"
      ]
     },
     "metadata": {},
     "output_type": "display_data"
    },
    {
     "data": {
      "text/html": [
       "<pre style=\"white-space:pre;overflow-x:auto;line-height:normal;font-family:Menlo,'DejaVu Sans Mono',consolas,'Courier New',monospace\"><span style=\"font-weight: bold\"> Non-trainable params: </span><span style=\"color: #00af00; text-decoration-color: #00af00\">448</span> (1.75 KB)\n",
       "</pre>\n"
      ],
      "text/plain": [
       "\u001b[1m Non-trainable params: \u001b[0m\u001b[38;5;34m448\u001b[0m (1.75 KB)\n"
      ]
     },
     "metadata": {},
     "output_type": "display_data"
    }
   ],
   "source": [
    "# === Build Custom CNN ===\n",
    "num_classes = len(class_labels)\n",
    "\n",
    "model = Sequential([\n",
    "    Conv2D(32, (3,3), activation='relu', input_shape=(IMG_SIZE[0], IMG_SIZE[1], 3)),\n",
    "    BatchNormalization(),\n",
    "    MaxPooling2D(2,2),\n",
    "\n",
    "    Conv2D(64, (3,3), activation='relu'),\n",
    "    BatchNormalization(),\n",
    "    MaxPooling2D(2,2),\n",
    "\n",
    "    Conv2D(128, (3,3), activation='relu'),\n",
    "    BatchNormalization(),\n",
    "    MaxPooling2D(2,2),\n",
    "\n",
    "    Flatten(),\n",
    "    Dense(256, activation='relu'),\n",
    "    Dropout(0.5),\n",
    "    Dense(num_classes, activation='softmax')\n",
    "])\n",
    "\n",
    "model.compile(optimizer='adam', loss='categorical_crossentropy', metrics=['accuracy'])\n",
    "model.summary()"
   ]
  },
  {
   "cell_type": "code",
   "execution_count": 9,
   "id": "46db3023",
   "metadata": {},
   "outputs": [
    {
     "name": "stdout",
     "output_type": "stream",
     "text": [
      "Epoch 1/8\n",
      "\u001b[1m90/90\u001b[0m \u001b[32m━━━━━━━━━━━━━━━━━━━━\u001b[0m\u001b[37m\u001b[0m \u001b[1m68s\u001b[0m 678ms/step - accuracy: 0.1340 - loss: 5.3846 - val_accuracy: 0.0667 - val_loss: 29.9075\n",
      "Epoch 2/8\n",
      "\u001b[1m90/90\u001b[0m \u001b[32m━━━━━━━━━━━━━━━━━━━━\u001b[0m\u001b[37m\u001b[0m \u001b[1m62s\u001b[0m 693ms/step - accuracy: 0.1701 - loss: 2.7392 - val_accuracy: 0.0667 - val_loss: 25.1975\n",
      "Epoch 3/8\n",
      "\u001b[1m90/90\u001b[0m \u001b[32m━━━━━━━━━━━━━━━━━━━━\u001b[0m\u001b[37m\u001b[0m \u001b[1m58s\u001b[0m 639ms/step - accuracy: 0.2188 - loss: 2.5673 - val_accuracy: 0.1000 - val_loss: 8.2093\n",
      "Epoch 4/8\n",
      "\u001b[1m90/90\u001b[0m \u001b[32m━━━━━━━━━━━━━━━━━━━━\u001b[0m\u001b[37m\u001b[0m \u001b[1m54s\u001b[0m 595ms/step - accuracy: 0.2111 - loss: 2.6386 - val_accuracy: 0.1417 - val_loss: 5.1477\n",
      "Epoch 5/8\n",
      "\u001b[1m90/90\u001b[0m \u001b[32m━━━━━━━━━━━━━━━━━━━━\u001b[0m\u001b[37m\u001b[0m \u001b[1m52s\u001b[0m 573ms/step - accuracy: 0.2326 - loss: 2.5663 - val_accuracy: 0.1583 - val_loss: 5.3174\n",
      "Epoch 6/8\n",
      "\u001b[1m90/90\u001b[0m \u001b[32m━━━━━━━━━━━━━━━━━━━━\u001b[0m\u001b[37m\u001b[0m \u001b[1m54s\u001b[0m 603ms/step - accuracy: 0.2167 - loss: 2.5099 - val_accuracy: 0.1806 - val_loss: 3.3007\n",
      "Epoch 7/8\n",
      "\u001b[1m90/90\u001b[0m \u001b[32m━━━━━━━━━━━━━━━━━━━━\u001b[0m\u001b[37m\u001b[0m \u001b[1m58s\u001b[0m 639ms/step - accuracy: 0.2299 - loss: 2.4904 - val_accuracy: 0.2667 - val_loss: 2.4256\n",
      "Epoch 8/8\n",
      "\u001b[1m90/90\u001b[0m \u001b[32m━━━━━━━━━━━━━━━━━━━━\u001b[0m\u001b[37m\u001b[0m \u001b[1m60s\u001b[0m 660ms/step - accuracy: 0.2493 - loss: 2.4309 - val_accuracy: 0.0778 - val_loss: 8.8148\n",
      "Training complete\n"
     ]
    }
   ],
   "source": [
    "# === Train model ===\n",
    "EPOCHS = 8\n",
    "es = EarlyStopping(monitor='val_accuracy', patience=3, restore_best_weights=True)\n",
    "chk = ModelCheckpoint('best_custom_cnn.keras', save_best_only=True)\n",
    "\n",
    "history = model.fit(\n",
    "    train_generator,\n",
    "    validation_data=val_generator,\n",
    "    epochs=EPOCHS,\n",
    "    callbacks=[es, chk]\n",
    ")\n",
    "\n",
    "print('Training complete')"
   ]
  },
  {
   "cell_type": "code",
   "execution_count": 11,
   "id": "183c3f87-647d-4bbc-b050-a0853bee1eb0",
   "metadata": {},
   "outputs": [
    {
     "name": "stdout",
     "output_type": "stream",
     "text": [
      "Number of classes in generator: 16\n",
      "Unique labels in y_true: 15\n",
      "⚠️ Mismatch detected — adjusting class labels...\n"
     ]
    }
   ],
   "source": [
    "# Automatically get class labels from the generator\n",
    "class_labels = list(val_generator.class_indices.keys())\n",
    "\n",
    "# Make sure lengths match\n",
    "print(f\"Number of classes in generator: {len(class_labels)}\")\n",
    "print(f\"Unique labels in y_true: {len(np.unique(y_true))}\")\n",
    "\n",
    "# Fix mismatch if needed\n",
    "if len(np.unique(y_true)) != len(class_labels):\n",
    "    print(\"⚠️ Mismatch detected — adjusting class labels...\")\n",
    "    class_labels = [label for i, label in enumerate(class_labels) if i in np.unique(y_true)]\n"
   ]
  },
  {
   "cell_type": "code",
   "execution_count": 12,
   "id": "528ece7a",
   "metadata": {},
   "outputs": [
    {
     "name": "stdout",
     "output_type": "stream",
     "text": [
      "\u001b[1m23/23\u001b[0m \u001b[32m━━━━━━━━━━━━━━━━━━━━\u001b[0m\u001b[37m\u001b[0m \u001b[1m5s\u001b[0m 200ms/step - accuracy: 0.2750 - loss: 2.3350\n",
      "Validation accuracy: 0.2750\n",
      "\u001b[1m23/23\u001b[0m \u001b[32m━━━━━━━━━━━━━━━━━━━━\u001b[0m\u001b[37m\u001b[0m \u001b[1m6s\u001b[0m 245ms/step\n",
      "\n",
      "Classification Report:\n",
      "\n",
      "                                             precision    recall  f1-score   support\n",
      "\n",
      "              Pepper__bell___Bacterial_spot       0.08      0.04      0.06        24\n",
      "                     Pepper__bell___healthy       0.00      0.00      0.00        24\n",
      "                      Potato___Early_blight       0.63      0.79      0.70        24\n",
      "                       Potato___Late_blight       0.00      0.00      0.00        24\n",
      "                           Potato___healthy       0.20      0.04      0.07        24\n",
      "                      Tomato_Bacterial_spot       0.06      0.04      0.05        24\n",
      "                        Tomato_Early_blight       0.00      0.00      0.00        24\n",
      "                         Tomato_Late_blight       0.71      0.21      0.32        24\n",
      "                           Tomato_Leaf_Mold       0.50      0.08      0.14        24\n",
      "                  Tomato_Septoria_leaf_spot       0.07      0.04      0.05        24\n",
      "Tomato_Spider_mites_Two_spotted_spider_mite       0.36      0.17      0.23        24\n",
      "                        Tomato__Target_Spot       0.14      0.58      0.22        24\n",
      "      Tomato__Tomato_YellowLeaf__Curl_Virus       0.24      0.88      0.37        24\n",
      "                Tomato__Tomato_mosaic_virus       0.80      0.17      0.28        24\n",
      "                             Tomato_healthy       0.38      0.96      0.54        24\n",
      "\n",
      "                                   accuracy                           0.27       360\n",
      "                                  macro avg       0.28      0.27      0.20       360\n",
      "                               weighted avg       0.28      0.27      0.20       360\n",
      "\n"
     ]
    },
    {
     "name": "stderr",
     "output_type": "stream",
     "text": [
      "C:\\Users\\Eastwood\\anaconda3\\envs\\plantdl\\lib\\site-packages\\sklearn\\metrics\\_classification.py:1731: UndefinedMetricWarning: Precision is ill-defined and being set to 0.0 in labels with no predicted samples. Use `zero_division` parameter to control this behavior.\n",
      "  _warn_prf(average, modifier, f\"{metric.capitalize()} is\", result.shape[0])\n",
      "C:\\Users\\Eastwood\\anaconda3\\envs\\plantdl\\lib\\site-packages\\sklearn\\metrics\\_classification.py:1731: UndefinedMetricWarning: Precision is ill-defined and being set to 0.0 in labels with no predicted samples. Use `zero_division` parameter to control this behavior.\n",
      "  _warn_prf(average, modifier, f\"{metric.capitalize()} is\", result.shape[0])\n",
      "C:\\Users\\Eastwood\\anaconda3\\envs\\plantdl\\lib\\site-packages\\sklearn\\metrics\\_classification.py:1731: UndefinedMetricWarning: Precision is ill-defined and being set to 0.0 in labels with no predicted samples. Use `zero_division` parameter to control this behavior.\n",
      "  _warn_prf(average, modifier, f\"{metric.capitalize()} is\", result.shape[0])\n"
     ]
    },
    {
     "data": {
      "image/png": "[encoded data removed]",
      "text/plain": [
       "<Figure size 1000x800 with 2 Axes>"
      ]
     },
     "metadata": {},
     "output_type": "display_data"
    }
   ],
   "source": [
    "# === Evaluation ===\n",
    "val_loss, val_acc = model.evaluate(val_generator)\n",
    "print(f'Validation accuracy: {val_acc:.4f}')\n",
    "\n",
    "val_generator.reset()\n",
    "y_true = val_generator.classes\n",
    "y_pred = np.argmax(model.predict(val_generator, verbose=1), axis=1)\n",
    "\n",
    "print('\\nClassification Report:\\n')\n",
    "print(classification_report(y_true, y_pred, target_names=class_labels))\n",
    "\n",
    "cm = confusion_matrix(y_true, y_pred)\n",
    "\n",
    "# Plot confusion matrix for up to 15 classes\n",
    "N = min(15, len(class_labels))\n",
    "plt.figure(figsize=(10,8))\n",
    "sns.heatmap(cm[:N,:N], annot=False)\n",
    "plt.title('Confusion matrix (first %d classes)' % N)\n",
    "plt.show()"
   ]
  },
  {
   "cell_type": "code",
   "execution_count": 13,
   "id": "32d80350",
   "metadata": {},
   "outputs": [
    {
     "data": {
      "image/png": "[encoded data removed]",
      "text/plain": [
       "<Figure size 800x500 with 1 Axes>"
      ]
     },
     "metadata": {},
     "output_type": "display_data"
    },
    {
     "data": {
      "image/png": "[encoded data removed]",
      "text/plain": [
       "<Figure size 800x500 with 1 Axes>"
      ]
     },
     "metadata": {},
     "output_type": "display_data"
    }
   ],
   "source": [
    "# === Training Curves ===\n",
    "plt.figure(figsize=(8,5))\n",
    "plt.plot(history.history['accuracy'], label='train_acc')\n",
    "plt.plot(history.history['val_accuracy'], label='val_acc')\n",
    "plt.xlabel('Epoch')\n",
    "plt.ylabel('Accuracy')\n",
    "plt.legend()\n",
    "plt.title('Accuracy over epochs')\n",
    "plt.show()\n",
    "\n",
    "plt.figure(figsize=(8,5))\n",
    "plt.plot(history.history['loss'], label='train_loss')\n",
    "plt.plot(history.history['val_loss'], label='val_loss')\n",
    "plt.xlabel('Epoch')\n",
    "plt.ylabel('Loss')\n",
    "plt.legend()\n",
    "plt.title('Loss over epochs')\n",
    "plt.show()"
   ]
  },
  {
   "cell_type": "code",
   "execution_count": 14,
   "id": "b09dd79a",
   "metadata": {},
   "outputs": [
    {
     "name": "stdout",
     "output_type": "stream",
     "text": [
      "Saved model to plant_disease_custom_cnn_subset.keras\n"
     ]
    }
   ],
   "source": [
    "# === Save final model ===\n",
    "model.save('plant_disease_custom_cnn_subset.keras')\n",
    "print('Saved model to plant_disease_custom_cnn_subset.keras')"
   ]
  },
  {
   "cell_type": "markdown",
   "id": "587b63b5",
   "metadata": {},
   "source": [
    "## Next steps & recommendations\n",
    "\n",
    "- To further improve accuracy: increase `max_images_per_class`, increase `IMG_SIZE`, or move to transfer learning.\n",
    "- Use Grad-CAM to visualize what the model focuses on for predictions.\n",
    "- Consider class rebalancing or collecting more data for confused classes.\n",
    "\n",
    "---\n",
    "\n",
    "*End of notebook.*"
   ]
  }
 ],
 "metadata": {
  "kernelspec": {
   "display_name": "Python (plantdl)",
   "language": "python",
   "name": "plantdl"
  },
  "language_info": {
   "codemirror_mode": {
    "name": "ipython",
    "version": 3
   },
   "file_extension": ".py",
   "mimetype": "text/x-python",
   "name": "python",
   "nbconvert_exporter": "python",
   "pygments_lexer": "ipython3",
   "version": "3.10.19"
  }
 },
 "nbformat": 4,
 "nbformat_minor": 5
}
